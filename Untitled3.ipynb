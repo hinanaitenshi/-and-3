{
 "cells": [
  {
   "cell_type": "code",
   "execution_count": 1,
   "metadata": {},
   "outputs": [
    {
     "name": "stdout",
     "output_type": "stream",
     "text": [
      "b比較大\n"
     ]
    }
   ],
   "source": [
    "#python 對於縮排非常嚴謹\n",
    "a = 3\n",
    "b = 4\n",
    "if a<=b:\n",
    "    print(\"b比較大\")\n",
    "else:\n",
    "    print(\"a比較大\")"
   ]
  },
  {
   "cell_type": "code",
   "execution_count": 2,
   "metadata": {},
   "outputs": [
    {
     "name": "stdout",
     "output_type": "stream",
     "text": [
      "雞有 23 隻,兔子有 12 隻\n"
     ]
    }
   ],
   "source": [
    "for chicken in range(0,36):\n",
    "    ribbit=35-chicken\n",
    "    if(2*chicken + 4*ribbit)== 94:\n",
    "        print(\"雞有\",chicken,\"隻,兔子有\",ribbit,\"隻\")\n",
    "        break\n",
    "else:\n",
    "    print(\"無解\")"
   ]
  },
  {
   "cell_type": "code",
   "execution_count": 3,
   "metadata": {},
   "outputs": [
    {
     "name": "stdout",
     "output_type": "stream",
     "text": [
      "總數為： 55\n"
     ]
    }
   ],
   "source": [
    "sum = 0\n",
    "for count in range(1,11,1):  # 1-10\n",
    "#for count in range(11):     # 0-10\n",
    "    sum += count\n",
    "\n",
    "print(\"總數為：\",sum)"
   ]
  },
  {
   "cell_type": "code",
   "execution_count": 4,
   "metadata": {},
   "outputs": [
    {
     "name": "stdout",
     "output_type": "stream",
     "text": [
      "l\n",
      "i\n",
      "s\n",
      "t\n",
      " \n",
      "s\n",
      "t\n",
      "a\n",
      "t\n",
      "e\n",
      "m\n",
      "e\n",
      "n\n",
      "t\n",
      "end\n"
     ]
    }
   ],
   "source": [
    "mylist =\"list statement\"\n",
    "for word in mylist:\n",
    "    print(word)\n",
    "else:\n",
    "    print(\"end\")"
   ]
  },
  {
   "cell_type": "code",
   "execution_count": 5,
   "metadata": {},
   "outputs": [
    {
     "name": "stdout",
     "output_type": "stream",
     "text": [
      "1+2+3+...+10的總和為: 55\n"
     ]
    }
   ],
   "source": [
    "#while迴圈\n",
    "sum = 0\n",
    "count = 0\n",
    "while count <= 10:\n",
    "    sum += count\n",
    "    count += 1\n",
    "print(\"1+2+3+...+10的總和為:\",sum)"
   ]
  },
  {
   "cell_type": "code",
   "execution_count": null,
   "metadata": {},
   "outputs": [],
   "source": [
    "#本金10000元，年利率1.9%，請問多久銀行存款會加倍\n",
    "year = 0\n",
    "x = 10000\n",
    "while x <= 20000:\n",
    "    x = x*1.019\n",
    "    year += 1\n",
    "print(year,\"年後本金會變成\",int(x))"
   ]
  },
  {
   "cell_type": "code",
   "execution_count": null,
   "metadata": {},
   "outputs": [],
   "source": [
    "# 猜數字\n",
    "import random\n",
    "number = random.randint(1,5)\n",
    "while True:\n",
    "    guess = int(input(\"請輸入1~5的數字\"))\n",
    "    if guess == number:\n",
    "        print(\"猜對了\")\n",
    "        break\n",
    "    else:\n",
    "        print(\"猜錯了\")"
   ]
  },
  {
   "cell_type": "code",
   "execution_count": null,
   "metadata": {},
   "outputs": [],
   "source": []
  }
 ],
 "metadata": {
  "kernelspec": {
   "display_name": "Python 3",
   "language": "python",
   "name": "python3"
  },
  "language_info": {
   "codemirror_mode": {
    "name": "ipython",
    "version": 3
   },
   "file_extension": ".py",
   "mimetype": "text/x-python",
   "name": "python",
   "nbconvert_exporter": "python",
   "pygments_lexer": "ipython3",
   "version": "3.6.4"
  }
 },
 "nbformat": 4,
 "nbformat_minor": 2
}
